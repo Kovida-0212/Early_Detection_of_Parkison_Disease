{
  "nbformat": 4,
  "nbformat_minor": 0,
  "metadata": {
    "colab": {
      "provenance": []
    },
    "kernelspec": {
      "name": "python3",
      "display_name": "Python 3"
    },
    "language_info": {
      "name": "python"
    }
  },
  "cells": [
    {
      "cell_type": "code",
      "execution_count": 1,
      "metadata": {
        "colab": {
          "base_uri": "https://localhost:8080/"
        },
        "id": "imDZNXue4S-t",
        "outputId": "6522b564-b5dd-444a-a558-a75d474f000b"
      },
      "outputs": [
        {
          "output_type": "stream",
          "name": "stdout",
          "text": [
            "Selected Features based on Chi-Square test:\n",
            "Index(['MDVP:Fo(Hz)', 'MDVP:Flo(Hz)', 'MDVP:Shimmer', 'MDVP:Shimmer(dB)',\n",
            "       'Shimmer:APQ3', 'Shimmer:APQ5', 'MDVP:APQ', 'Shimmer:DDA', 'spread1',\n",
            "       'PPE'],\n",
            "      dtype='object')\n"
          ]
        }
      ],
      "source": [
        "import pandas as pd\n",
        "from sklearn.feature_selection import SelectKBest, chi2\n",
        "from sklearn.preprocessing import MinMaxScaler\n",
        "\n",
        "# Load the dataset\n",
        "data = pd.read_csv('/content/parkinsons disease data.csv')\n",
        "\n",
        "# Define the features and the target\n",
        "X = data.drop(['name', 'status'], axis=1)\n",
        "y = data['status']\n",
        "\n",
        "# Normalize features to be non-negative\n",
        "scaler = MinMaxScaler()\n",
        "X_scaled = scaler.fit_transform(X)\n",
        "\n",
        "# Apply Chi-Square feature selection\n",
        "k = 10\n",
        "chi2_selector = SelectKBest(chi2, k=k)\n",
        "X_kbest = chi2_selector.fit_transform(X_scaled, y)\n",
        "\n",
        "# Get the selected feature names\n",
        "selected_features = X.columns[chi2_selector.get_support()]\n",
        "\n",
        "# Display the selected features\n",
        "print(\"Selected Features based on Chi-Square test:\")\n",
        "print(selected_features)\n"
      ]
    },
    {
      "cell_type": "code",
      "source": [
        "from sklearn.preprocessing import StandardScaler\n",
        "from sklearn.model_selection import train_test_split"
      ],
      "metadata": {
        "id": "WtqKrnR65CsW"
      },
      "execution_count": 2,
      "outputs": []
    },
    {
      "cell_type": "code",
      "source": [
        "X_train, X_test, y_train, y_test = train_test_split(X_scaled, y, test_size=0.2, random_state=42)"
      ],
      "metadata": {
        "id": "OxM_2nGa5KKh"
      },
      "execution_count": 3,
      "outputs": []
    },
    {
      "cell_type": "code",
      "source": [
        "import pandas as pd\n",
        "import numpy as np\n",
        "from sklearn.model_selection import train_test_split\n",
        "from sklearn.linear_model import LogisticRegression\n",
        "from sklearn.tree import DecisionTreeClassifier\n",
        "from sklearn.ensemble import RandomForestClassifier\n",
        "from sklearn.svm import SVC\n",
        "from sklearn.neighbors import KNeighborsClassifier\n",
        "from sklearn.naive_bayes import GaussianNB\n",
        "from sklearn.metrics import (accuracy_score, f1_score, precision_score, recall_score,\n",
        "                             mean_absolute_error, mean_squared_error, r2_score, confusion_matrix)\n",
        "import matplotlib.pyplot as plt\n",
        "import seaborn as sns\n",
        "\n",
        "# Split the data into training and testing sets (80% train, 20% test)\n",
        "X_train, X_test, y_train, y_test = train_test_split(X, y, test_size=0.2, random_state=42)\n",
        "\n",
        "# Initialize classifiers\n",
        "models = {\n",
        "    'Logistic Regression': LogisticRegression(max_iter=1000, random_state=42),\n",
        "    'Decision Tree': DecisionTreeClassifier(random_state=42),\n",
        "    'Random Forest': RandomForestClassifier(random_state=42),\n",
        "    'SVM': SVC(probability=True, random_state=42),\n",
        "    'K-Nearest Neighbors': KNeighborsClassifier(),\n",
        "    'Naive Bayes': GaussianNB()\n",
        "}\n",
        "\n",
        "# Dictionary to store results\n",
        "results = {\n",
        "    'Model': [],\n",
        "    'Accuracy': [],\n",
        "    'F1 Score': [],\n",
        "    'Precision': [],\n",
        "    'Recall': [],\n",
        "    'MAE': [],\n",
        "    'MSE': [],\n",
        "    'R-Squared': [],\n",
        "    'Confusion Matrix': []\n",
        "}\n",
        "\n",
        "# Train and evaluate each model\n",
        "for name, clf in models.items():\n",
        "    # Train the model\n",
        "    clf.fit(X_train, y_train)\n",
        "\n",
        "    # Make predictions\n",
        "    y_pred = clf.predict(X_test)\n",
        "\n",
        "    # Calculate metrics\n",
        "    accuracy = accuracy_score(y_test, y_pred)\n",
        "    f1 = f1_score(y_test, y_pred)\n",
        "    precision = precision_score(y_test, y_pred)\n",
        "    recall = recall_score(y_test, y_pred)\n",
        "    mae = mean_absolute_error(y_test, y_pred)\n",
        "    mse = mean_squared_error(y_test, y_pred)\n",
        "    r2 = r2_score(y_test, y_pred)\n",
        "    cm = confusion_matrix(y_test, y_pred)\n",
        "\n",
        "    # Append results\n",
        "    results['Model'].append(name)\n",
        "    results['Accuracy'].append(accuracy)\n",
        "    results['F1 Score'].append(f1)\n",
        "    results['Precision'].append(precision)\n",
        "    results['Recall'].append(recall)\n",
        "    results['MAE'].append(mae)\n",
        "    results['MSE'].append(mse)\n",
        "    results['R-Squared'].append(r2)\n",
        "    results['Confusion Matrix'].append(cm)\n",
        "\n",
        "# Convert results to a DataFrame for easier viewing\n",
        "results_df = pd.DataFrame(results)\n",
        "results_df.sort_values(by=\"Accuracy\", ascending=False, inplace=True)\n",
        "\n",
        "# Print the results DataFrame\n",
        "print(results_df)\n",
        "\n",
        "# Plotting model accuracies\n",
        "plt.figure(figsize=(10, 6))\n",
        "sns.barplot(x='Accuracy', y='Model', data=results_df, palette='viridis')\n",
        "plt.title('Model Accuracy Comparison')\n",
        "plt.xlabel('Accuracy')\n",
        "plt.ylabel('Model')\n",
        "plt.show()"
      ],
      "metadata": {
        "colab": {
          "base_uri": "https://localhost:8080/",
          "height": 921
        },
        "id": "kneIBI1R5LWJ",
        "outputId": "72b483d8-6398-4887-a318-4c27fff26b4d"
      },
      "execution_count": 4,
      "outputs": [
        {
          "output_type": "stream",
          "name": "stdout",
          "text": [
            "                 Model  Accuracy  F1 Score  Precision   Recall       MAE  \\\n",
            "2        Random Forest  0.948718  0.969697   0.941176  1.00000  0.051282   \n",
            "1        Decision Tree  0.923077  0.953846   0.939394  0.96875  0.076923   \n",
            "0  Logistic Regression  0.897436  0.941176   0.888889  1.00000  0.102564   \n",
            "3                  SVM  0.846154  0.911765   0.861111  0.96875  0.153846   \n",
            "4  K-Nearest Neighbors  0.820513  0.892308   0.878788  0.90625  0.179487   \n",
            "5          Naive Bayes  0.692308  0.785714   0.916667  0.68750  0.307692   \n",
            "\n",
            "        MSE  R-Squared    Confusion Matrix  \n",
            "2  0.051282   0.651786   [[5, 2], [0, 32]]  \n",
            "1  0.076923   0.477679   [[5, 2], [1, 31]]  \n",
            "0  0.102564   0.303571   [[3, 4], [0, 32]]  \n",
            "3  0.153846  -0.044643   [[2, 5], [1, 31]]  \n",
            "4  0.179487  -0.218750   [[3, 4], [3, 29]]  \n",
            "5  0.307692  -1.089286  [[5, 2], [10, 22]]  \n"
          ]
        },
        {
          "output_type": "stream",
          "name": "stderr",
          "text": [
            "/tmp/ipython-input-3011867789.py:79: FutureWarning: \n",
            "\n",
            "Passing `palette` without assigning `hue` is deprecated and will be removed in v0.14.0. Assign the `y` variable to `hue` and set `legend=False` for the same effect.\n",
            "\n",
            "  sns.barplot(x='Accuracy', y='Model', data=results_df, palette='viridis')\n"
          ]
        },
        {
          "output_type": "display_data",
          "data": {
            "text/plain": [
              "<Figure size 1000x600 with 1 Axes>"
            ],
            "image/png": "[encoded data removed]"
          },
          "metadata": {}
        }
      ]
    }
  ]
}